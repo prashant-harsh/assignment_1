{
 "cells": [
  {
   "cell_type": "code",
   "execution_count": 1,
   "metadata": {},
   "outputs": [
    {
     "name": "stdout",
     "output_type": "stream",
     "text": [
      "enter number of element : 3\n",
      "1\n",
      "2\n",
      "1\n",
      "[1, 2, 1]\n",
      "the list after removing all the duplicates : [1, 2]\n"
     ]
    }
   ],
   "source": [
    "#remove duplicate from list from user input\n",
    "akm=[]\n",
    "\n",
    "k=int(input(\"enter number of element : \"))\n",
    "\n",
    "for i in range(0,k):\n",
    "    ele=int(input())\n",
    "    akm.append(ele)\n",
    "print(akm)\n",
    "\n",
    "m416 = []\n",
    "\n",
    "[m416.append(x) for x in akm if x not in m416]\n",
    "\n",
    "print(\"the list after removing all the duplicates : \" + str(m416))\n"
   ]
  },
  {
   "cell_type": "code",
   "execution_count": 2,
   "metadata": {},
   "outputs": [
    {
     "name": "stdout",
     "output_type": "stream",
     "text": [
      "enter size of list : 3\n",
      "enter the element : 1\n",
      "enter the element : 2\n",
      "enter the element : 5\n",
      "\n",
      "length of tuple is : 3\n",
      "sum of all all the element of a tuple :  8\n",
      "smallest element of tuple :  1\n",
      "largest element of tuple :  5\n"
     ]
    }
   ],
   "source": [
    "# take input from user in form of tuple and perform some operation\n",
    "tilak=[]\n",
    "n=int(input(\"enter size of list : \"))\n",
    "for i in range(1,n+1):\n",
    "    e=int(input('enter the element : '))\n",
    "    tilak.append(e)\n",
    "tilak=tuple(tilak)\n",
    "print('\\nlength of tuple is :',len(tilak))\n",
    "print('sum of all all the element of a tuple : ',sum(tilak))\n",
    "print('smallest element of tuple : ',min(tilak))\n",
    "print('largest element of tuple : ',max(tilak))"
   ]
  },
  {
   "cell_type": "code",
   "execution_count": 3,
   "metadata": {},
   "outputs": [
    {
     "name": "stdout",
     "output_type": "stream",
     "text": [
      "pubg= 11\n",
      "i= 2\n",
      "15\n"
     ]
    }
   ],
   "source": [
    "#change the ith bit of number to 1\n",
    "pubg = int(input('pubg= '))\n",
    "i=int(input('i= '))\n",
    "tiktok_pubg=i<<1\n",
    "print(tiktok_pubg^pubg)"
   ]
  },
  {
   "cell_type": "code",
   "execution_count": 4,
   "metadata": {},
   "outputs": [
    {
     "name": "stdout",
     "output_type": "stream",
     "text": [
      "n= 89\n",
      "1 is number is odd\n"
     ]
    }
   ],
   "source": [
    "# even and odd\n",
    "n=int(input('n= '))\n",
    "if(n%2)==0:\n",
    "    print(\"0 is number is even\")\n",
    "else:\n",
    "    print(\"1 is number is odd\")"
   ]
  },
  {
   "cell_type": "code",
   "execution_count": 5,
   "metadata": {},
   "outputs": [
    {
     "name": "stdout",
     "output_type": "stream",
     "text": [
      "enter the size of list 1: 3\n",
      "enter element1\n",
      "enter element2\n",
      "enter element3\n",
      "enter the size of list 2: 3\n",
      "enter element2\n",
      "enter element5\n",
      "enter element6\n",
      "sort list is :  [1, 2, 2, 3, 5, 6]\n"
     ]
    }
   ],
   "source": [
    "# merge to unsort list\n",
    "apk=[]\n",
    "cpk=[]\n",
    "n1=int(input(\"enter the size of list 1: \"))\n",
    "for i in range(n1):\n",
    "    bcd=int(input(\"enter element\"))\n",
    "    apk.append(bcd)\n",
    "n2=int(input(\"enter the size of list 2: \"))\n",
    "for i in range(n2):\n",
    "    dcd=int(input(\"enter element\"))\n",
    "    cpk.append(dcd)\n",
    "merge_list=sorted(apk+cpk)\n",
    "print('sort list is : ', merge_list)"
   ]
  },
  {
   "cell_type": "code",
   "execution_count": 6,
   "metadata": {},
   "outputs": [
    {
     "name": "stdout",
     "output_type": "stream",
     "text": [
      "enter number of student3\n",
      "student namea\n",
      "enter marks1\n",
      "student nameb\n",
      "enter marks5\n",
      "student namec\n",
      "enter marks2\n",
      "{'a': 1, 'b': 5, 'c': 2}\n",
      "{'a': 1, 'c': 2, 'b': 5}\n"
     ]
    }
   ],
   "source": [
    "#take input from user in form of dict for taking student details in dict\n",
    "d={}\n",
    "n=int(input(\"enter number of student\"))\n",
    "for i in range(n):\n",
    "    temp=input((\"student name\"))\n",
    "    d[temp]=int(input(\"enter marks\"))\n",
    "print(d)\n",
    "key=[i for i in d]\n",
    "value=[d[i] for i in d]\n",
    "d.clear()\n",
    "while len(key)>0:\n",
    "    i=0\n",
    "    for j in range(len(value)):\n",
    "        if value[i] > value[j]:\n",
    "            i=j\n",
    "    d[key[i]]=value[i]\n",
    "    key.pop(i)\n",
    "    value.pop(i)\n",
    "print(d)"
   ]
  },
  {
   "cell_type": "code",
   "execution_count": null,
   "metadata": {},
   "outputs": [],
   "source": []
  }
 ],
 "metadata": {
  "kernelspec": {
   "display_name": "Python 3",
   "language": "python",
   "name": "python3"
  },
  "language_info": {
   "codemirror_mode": {
    "name": "ipython",
    "version": 3
   },
   "file_extension": ".py",
   "mimetype": "text/x-python",
   "name": "python",
   "nbconvert_exporter": "python",
   "pygments_lexer": "ipython3",
   "version": "3.7.6"
  }
 },
 "nbformat": 4,
 "nbformat_minor": 4
}
